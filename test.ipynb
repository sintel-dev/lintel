{
 "cells": [
  {
   "cell_type": "code",
   "execution_count": 1,
   "id": "c2d767fb",
   "metadata": {},
   "outputs": [],
   "source": [
    "import pandas as pd\n",
    "from orion.data import load_signal, load_anomalies\n",
    "from lintel.utils import *"
   ]
  },
  {
   "cell_type": "code",
   "execution_count": 2,
   "id": "ffc21df5",
   "metadata": {},
   "outputs": [],
   "source": [
    "df = pd.DataFrame(columns = ['signal', 'sequence', 'ano_indices'])"
   ]
  },
  {
   "cell_type": "code",
   "execution_count": 3,
   "id": "6a6c3b92",
   "metadata": {},
   "outputs": [
    {
     "data": {
      "text/html": [
       "<div>\n",
       "<style scoped>\n",
       "    .dataframe tbody tr th:only-of-type {\n",
       "        vertical-align: middle;\n",
       "    }\n",
       "\n",
       "    .dataframe tbody tr th {\n",
       "        vertical-align: top;\n",
       "    }\n",
       "\n",
       "    .dataframe thead th {\n",
       "        text-align: right;\n",
       "    }\n",
       "</style>\n",
       "<table border=\"1\" class=\"dataframe\">\n",
       "  <thead>\n",
       "    <tr style=\"text-align: right;\">\n",
       "      <th></th>\n",
       "      <th>signal</th>\n",
       "      <th>sequence</th>\n",
       "      <th>ano_indices</th>\n",
       "    </tr>\n",
       "  </thead>\n",
       "  <tbody>\n",
       "  </tbody>\n",
       "</table>\n",
       "</div>"
      ],
      "text/plain": [
       "Empty DataFrame\n",
       "Columns: [signal, sequence, ano_indices]\n",
       "Index: []"
      ]
     },
     "execution_count": 3,
     "metadata": {},
     "output_type": "execute_result"
    }
   ],
   "source": [
    "df"
   ]
  },
  {
   "cell_type": "code",
   "execution_count": 4,
   "id": "92f18802",
   "metadata": {},
   "outputs": [],
   "source": [
    "train_data = load_signal('E-1')"
   ]
  },
  {
   "cell_type": "code",
   "execution_count": 5,
   "id": "b2f8aded",
   "metadata": {},
   "outputs": [],
   "source": [
    "train_label = load_anomalies('E-1')"
   ]
  },
  {
   "cell_type": "code",
   "execution_count": 6,
   "id": "33776b64",
   "metadata": {},
   "outputs": [
    {
     "data": {
      "text/html": [
       "<div>\n",
       "<style scoped>\n",
       "    .dataframe tbody tr th:only-of-type {\n",
       "        vertical-align: middle;\n",
       "    }\n",
       "\n",
       "    .dataframe tbody tr th {\n",
       "        vertical-align: top;\n",
       "    }\n",
       "\n",
       "    .dataframe thead th {\n",
       "        text-align: right;\n",
       "    }\n",
       "</style>\n",
       "<table border=\"1\" class=\"dataframe\">\n",
       "  <thead>\n",
       "    <tr style=\"text-align: right;\">\n",
       "      <th></th>\n",
       "      <th>start</th>\n",
       "      <th>end</th>\n",
       "    </tr>\n",
       "  </thead>\n",
       "  <tbody>\n",
       "    <tr>\n",
       "      <th>0</th>\n",
       "      <td>1393027200</td>\n",
       "      <td>1393675200</td>\n",
       "    </tr>\n",
       "    <tr>\n",
       "      <th>1</th>\n",
       "      <td>1406203200</td>\n",
       "      <td>1416484800</td>\n",
       "    </tr>\n",
       "  </tbody>\n",
       "</table>\n",
       "</div>"
      ],
      "text/plain": [
       "        start         end\n",
       "0  1393027200  1393675200\n",
       "1  1406203200  1416484800"
      ]
     },
     "execution_count": 6,
     "metadata": {},
     "output_type": "execute_result"
    }
   ],
   "source": [
    "train_label"
   ]
  },
  {
   "cell_type": "code",
   "execution_count": 7,
   "id": "fb190660",
   "metadata": {},
   "outputs": [
    {
     "name": "stdout",
     "output_type": "stream",
     "text": [
      "[7880, 7881, 7882, 7883, 7884, 7885, 7886, 7887, 7888, 7889, 7890, 7891, 7892, 7893, 7894, 7895, 7896, 7897, 7898, 7899, 7900, 7901, 7902, 7903, 7904, 7905, 7906, 7907, 7908, 7909, 7910]\n"
     ]
    }
   ],
   "source": [
    "print(train_data[(train_data.timestamp >= train_label.start[0]) & (train_data.timestamp <= train_label.end[0])].index.to_list())"
   ]
  },
  {
   "cell_type": "code",
   "execution_count": 8,
   "id": "f9f62300",
   "metadata": {},
   "outputs": [],
   "source": [
    "e7 = create_str_seq(train_data, 7900, 8700)"
   ]
  },
  {
   "cell_type": "code",
   "execution_count": 9,
   "id": "cfe2ba58",
   "metadata": {},
   "outputs": [],
   "source": [
    "e7_ano_ind = create_str_ind(8163-7900, 8443-7900)"
   ]
  },
  {
   "cell_type": "code",
   "execution_count": 10,
   "id": "f6595873",
   "metadata": {},
   "outputs": [],
   "source": [
    "e1 = create_str_seq(train_data, 7600, 8200)"
   ]
  },
  {
   "cell_type": "code",
   "execution_count": 11,
   "id": "56d1e05e",
   "metadata": {},
   "outputs": [],
   "source": [
    "e1_ano_ind = create_str_ind(7880-7600, 7910-7600)"
   ]
  },
  {
   "cell_type": "code",
   "execution_count": 12,
   "id": "c64dc0e7",
   "metadata": {},
   "outputs": [],
   "source": [
    "m = get_message_with_example(e1, e7, e7_ano_ind)"
   ]
  },
  {
   "cell_type": "code",
   "execution_count": 13,
   "id": "176b2765",
   "metadata": {},
   "outputs": [
    {
     "data": {
      "text/plain": [
       "[{'role': 'system',\n",
       "  'content': \"You are a helpful assistant that performs time series anomaly detection. The user will provide an example of a sequence and a list of indices that are anomalous. Then the user will provide sequence and you will be asked to give a list of ranges that are anomalous in the sequence. The sequences are represented by decimal strings separated by commas. Please give a list of indices are anomalous in the  following sequence without producing any additional text. Do not say anything like 'the anomalous ranges in the sequence are', just return the numbers.\"},\n",
       " {'role': 'user',\n",
       "  'content': 'Sequence: 2 0 0 , 2 0 0 , 2 0 0 , 2 0 0 , 2 0 0 , 2 0 0 , 2 0 0 , 2 0 0 , 2 0 0 , 2 0 0 , 2 0 0 , 2 0 0 , 2 0 0 , 2 0 0 , 2 0 0 , 2 0 0 , 2 0 0 , 0 , 0 , 0 , 0 , 0 , 0 , 0 , 0 , 0 , 0 , 0 , 0 , 0 , 0 , 0 , 0 , 0 , 0 , 0 , 0 , 0 , 0 , 0 , 0 , 0 , 0 , 0 , 0 , 0 , 0 , 0 , 0 , 0 , 0 , 0 , 0 , 0 , 0 , 0 , 0 , 0 , 0 , 0 , 0 , 0 , 0 , 0 , 0 , 0 , 0 , 0 , 0 , 0 , 0 , 0 , 0 , 0 , 0 , 0 , 0 , 0 , 0 , 0 , 0 , 0 , 0 , 0 , 0 , 0 , 2 0 0 , 2 0 0 , 2 0 0 , 2 0 0 , 2 0 0 , 2 0 0 , 2 0 0 , 2 0 0 , 2 0 0 , 2 0 0 , 2 0 0 , 2 0 0 , 2 0 0 , 2 0 0 , 0 , 0 , 0 , 0 , 0 , 0 , 0 , 0 , 0 , 0 , 0 , 0 , 0 , 0 , 0 , 0 , 0 , 0 , 0 , 0 , 0 , 0 , 0 , 0 , 0 , 0 , 0 , 0 , 0 , 0 , 0 , 0 , 0 , 0 , 0 , 0 , 0 , 0 , 0 , 0 , 0 , 0 , 0 , 0 , 0 , 0 , 0 , 0 , 0 , 0 , 0 , 0 , 0 , 0 , 0 , 0 , 0 , 0 , 0 , 0 , 0 , 0 , 0 , 0 , 0 , 0 , 0 , 0 , 0 , 0 , 0 , 0 , 0 , 0 , 0 , 0 , 0 , 0 , 0 , 0 , 0 , 0 , 0 , 2 0 0 , 2 0 0 , 2 0 0 , 2 0 0 , 2 0 0 , 2 0 0 , 2 0 0 , 2 0 0 , 2 0 0 , 2 0 0 , 2 0 0 , 2 0 0 , 2 0 0 , 2 0 0 , 2 0 0 , 0 , 0 , 0 , 0 , 0 , 0 , 0 , 0 , 0 , 0 , 0 , 0 , 0 , 0 , 0 , 0 , 0 , 0 , 0 , 0 , 0 , 0 , 0 , 0 , 0 , 0 , 0 , 0 , 0 , 0 , 0 , 0 , 0 , 0 , 0 , 0 , 0 , 0 , 0 , 0 , 0 , 0 , 0 , 0 , 0 , 0 , 0 , 0 , 0 , 0 , 0 , 0 , 0 , 0 , 0 , 0 , 0 , 0 , 0 , 0 , 0 , 0 , 0 , 0 , 0 , 0 , 0 , 0 , 0 , 0 , 0 , 0 , 0 , 0 , 0 , 0 , 0 , 0 , 0 , 0 , 0 , 0 , 0 , 0 , 0 , 0 , 0 , 0 , 0 , 0 , 0 , 0 , 0 , 2 0 0 , 2 0 0 , 2 0 0 , 2 0 0 , 2 0 0 , 2 0 0 , 2 0 0 , 2 0 0 , 2 0 0 , 2 0 0 , 2 0 0 , 2 0 0 , 2 0 0 , 2 0 0 , 2 0 0 , 0 , 0 , 0 , 0 , 0 , 0 , 0 , 0 , 0 , 0 , 0 , 0 , 0 , 0 , 0 , 0 , 0 , 0 , 0 , 0 , 0 , 0 , 0 , 0 , 0 , 0 , 0 , 0 , 0 , 0 , 0 , 0 , 0 , 2 0 0 , 2 0 0 , 2 0 0 , 2 0 0 , 2 0 0 , 2 0 0 , 2 0 0 , 2 0 0 , 2 0 0 , 2 0 0 , 2 0 0 , 2 0 0 , 2 0 0 , 2 0 0 , 0 , 0 , 0 , 0 , 0 , 0 , 0 , 0 , 0 , 0 , 0 , 0 , 0 , 0 , 0 , 0 , 0 , 0 , 0 , 0 , 0 , 0 , 0 , 0 , 0 , 0 , 0 , 0 , 0 , 0 , 0 , 0 , 0 , 0 , 0 , 0 , 2 0 0 , 2 0 0 , 2 0 0 , 2 0 0 , 2 0 0 , 2 0 0 , 2 0 0 , 2 0 0 , 2 0 0 , 2 0 0 , 2 0 0 , 2 0 0 , 2 0 0 , 2 0 0 , 0 , 0 , 0 , 0 , 0 , 0 , 0 , 0 , 0 , 0 , 0 , 0 , 0 , 0 , 0 , 0 , 0 , 0 , 0 , 0 , 0 , 0 , 0 , 0 , 0 , 0 , 0 , 0 , 0 , 0 , 0 , 0 , 0 , 0 , 2 0 0 , 2 0 0 , 2 0 0 , 2 0 0 , 2 0 0 , 2 0 0 , 2 0 0 , 2 0 0 , 2 0 0 , 2 0 0 , 2 0 0 , 2 0 0 , 2 0 0 , 2 0 0 , 2 0 0 , 0 , 0 , 0 , 0 , 0 , 0 , 0 , 0 , 0 , 0 , 0 , 0 , 0 , 0 , 0 , 0 , 0 , 0 , 0 , 0 , 0 , 0 , 0 , 0 , 0 , 0 , 0 , 0 , 0 , 0 , 0 , 0 , 0 , 0 , 2 0 0 , 2 0 0 , 2 0 0 , 2 0 0 , 2 0 0 , 2 0 0 , 2 0 0 , 2 0 0 , 2 0 0 , 2 0 0 , 2 0 0 , 2 0 0 , 0 , 0 , 0 , 0 , 0 , 0 , 0 , 0 , 0 , 0 , 0 , 0 , 0 , 0 , 0 , 0 , 0 , 0 , 0 , 0 , 0 , 0 , 0 , 0 , 0 , 0 , 0 , 0 , 0 , 0 , 0 , 0 , 0 , 0 , 0 , 0 , 2 0 0 , 2 0 0 , 2 0 0 , 2 0 0 , 2 0 0 , 2 0 0 , 2 0 0 , 2 0 0 , 2 0 0 , 2 0 0 , 2 0 0 , 2 0 0 , 2 0 0 , 2 0 0 , 2 0 0 , 0 , 0 , 0 , 0 , 0 , 0 , 0 , 0 , 0 , 0 , 0 , 0 , 0 , 0 , 0 , 0 , 0 , 0 , 0 , 0 , 0 , 0 , 0 , 0 , 0 , 0 , 0 , 0 , 0 , 0 , 0 , 0 , 0 , 0 , 0 , 0 , 0 , 0 , 0 , 0 , 0 , 0 , 2 0 0 , 2 0 0 , 2 0 0 , 2 0 0 , 1 3 3 , 1 3 3 , 1 3 3 , 1 3 3 , 1 3 3 , 1 3 3 , 1 3 3 , 1 3 3 , 1 3 3 , 1 3 3 , 1 3 3 , 1 3 3 , 1 3 3 , 1 3 3 , 1 3 3 , 1 3 3 , 1 3 3 , 1 3 3 , 1 3 3 , 1 3 3 , 1 3 3 , 1 3 3 , 1 3 3 , 1 3 3 , 1 3 3 , 1 3 3 , 1 3 3 , 1 3 3 , 1 3 3 , 1 3 3 , 1 3 3 , 1 3 3 , 1 3 3 , 1 3 3 , 1 3 3 , 1 3 3 , 1 3 3 , 1 3 3 , 1 3 3 , 1 3 3 , 1 3 3 , 1 3 3 , 1 3 3 , 1 3 3 , 1 3 3 , 1 3 3 , 1 3 3 , 1 3 3 , 1 3 3 , 1 3 3 , 1 3 3 , 1 3 3 , 1 3 3 , 1 3 3 , 1 3 3 , 1 3 3 , 1 3 3 , 1 3 3 , 1 3 3 , 1 3 3 , 1 3 3 , 1 3 3 , 1 3 3 , 1 3 3 , 1 3 3 , 1 3 3 , 1 3 3 , 1 3 3 , 1 3 3 , 1 3 3 , 1 3 3 , 1 3 3 , 1 3 3 , 1 3 3 , 1 3 3 , 1 3 3 , 1 3 3 , 1 3 3 , 1 3 3 , 1 3 3 , 1 3 3 , 1 3 3 , 1 3 3 , 1 3 3 , 1 3 3 , 1 3 3 , 1 3 3 , 1 3 3 , 1 3 3 , 1 3 3 , 1 3 3 , 1 3 3 , 1 3 3 , 1 3 3 , 1 3 3 , 1 3 3 , 1 3 3 , 1 3 3 , 1 3 3 , 1 3 3 , 1 3 3 , 1 3 3 , 1 3 3 , 1 3 3 , 1 3 3 , 1 3 3 , 1 3 3 , 1 3 3 , 1 3 3 , 1 3 3 , 1 3 3 , 1 3 3 , 1 3 3 , 1 3 3 , 1 3 3 , 1 3 3 , 1 3 3 , 1 3 3 , 1 3 3 , 1 3 3 , 1 3 3 , 1 3 3 , 1 3 3 , 1 3 3 , 1 3 3 , 1 3 3 , 1 3 3 , 1 3 3 , 1 3 3 , 1 3 3 , 1 3 3 , 1 3 3 , 1 3 3 , 1 3 3 , 1 3 3 , 1 3 3 , 1 3 3 , 1 3 3 , 1 3 3 , 1 3 3 , 1 3 3 , 1 3 3 , 1 3 3 , 1 3 3 , 1 3 3 , 1 3 3 , 1 3 3 , 1 3 3 , 1 3 3 , 1 3 3 , 1 3 3 , 1 3 3 , 1 3 3 , 1 3 3 , 1 3 3 , 1 3 3 , 1 3 3 , 1 3 3 , 1 3 3 , 1 3 3 , 1 3 3 , 1 3 3 , 1 3 3 , 1 3 3 , 1 3 3 , 1 3 3 , 1 3 3 , 1 3 3 , 1 3 3 , 1 3 3 , 1 3 3 , 1 3 3 , 1 3 3 , 1 3 3 , 1 3 3 , 1 3 3 , 1 3 3 , 1 3 3 , 1 3 3 , 1 3 3 , 1 3 3 , 1 3 3 , 1 3 3 , 1 3 3 , 1 3 3 , 1 3 3 , 1 3 3 , 1 3 3 , 1 3 3 , 1 3 3 , 1 3 3 , 1 3 3 , 1 3 3 , 1 3 3 , 1 3 3 , 1 3 3 , 1 3 3 , 1 3 3 , 1 3 3 , 1 3 3 , 1 3 3 , 1 3 3 , 1 3 3 , 1 3 3 , 1 3 3 , '},\n",
       " {'role': 'assistant',\n",
       "  'content': '2 6 3 , 2 6 4 , 2 6 5 , 2 6 6 , 2 6 7 , 2 6 8 , 2 6 9 , 2 7 0 , 2 7 1 , 2 7 2 , 2 7 3 , 2 7 4 , 2 7 5 , 2 7 6 , 2 7 7 , 2 7 8 , 2 7 9 , 2 8 0 , 2 8 1 , 2 8 2 , 2 8 3 , 2 8 4 , 2 8 5 , 2 8 6 , 2 8 7 , 2 8 8 , 2 8 9 , 2 9 0 , 2 9 1 , 2 9 2 , 2 9 3 , 2 9 4 , 2 9 5 , 2 9 6 , 2 9 7 , 2 9 8 , 2 9 9 , 3 0 0 , 3 0 1 , 3 0 2 , 3 0 3 , 3 0 4 , 3 0 5 , 3 0 6 , 3 0 7 , 3 0 8 , 3 0 9 , 3 1 0 , 3 1 1 , 3 1 2 , 3 1 3 , 3 1 4 , 3 1 5 , 3 1 6 , 3 1 7 , 3 1 8 , 3 1 9 , 3 2 0 , 3 2 1 , 3 2 2 , 3 2 3 , 3 2 4 , 3 2 5 , 3 2 6 , 3 2 7 , 3 2 8 , 3 2 9 , 3 3 0 , 3 3 1 , 3 3 2 , 3 3 3 , 3 3 4 , 3 3 5 , 3 3 6 , 3 3 7 , 3 3 8 , 3 3 9 , 3 4 0 , 3 4 1 , 3 4 2 , 3 4 3 , 3 4 4 , 3 4 5 , 3 4 6 , 3 4 7 , 3 4 8 , 3 4 9 , 3 5 0 , 3 5 1 , 3 5 2 , 3 5 3 , 3 5 4 , 3 5 5 , 3 5 6 , 3 5 7 , 3 5 8 , 3 5 9 , 3 6 0 , 3 6 1 , 3 6 2 , 3 6 3 , 3 6 4 , 3 6 5 , 3 6 6 , 3 6 7 , 3 6 8 , 3 6 9 , 3 7 0 , 3 7 1 , 3 7 2 , 3 7 3 , 3 7 4 , 3 7 5 , 3 7 6 , 3 7 7 , 3 7 8 , 3 7 9 , 3 8 0 , 3 8 1 , 3 8 2 , 3 8 3 , 3 8 4 , 3 8 5 , 3 8 6 , 3 8 7 , 3 8 8 , 3 8 9 , 3 9 0 , 3 9 1 , 3 9 2 , 3 9 3 , 3 9 4 , 3 9 5 , 3 9 6 , 3 9 7 , 3 9 8 , 3 9 9 , 4 0 0 , 4 0 1 , 4 0 2 , 4 0 3 , 4 0 4 , 4 0 5 , 4 0 6 , 4 0 7 , 4 0 8 , 4 0 9 , 4 1 0 , 4 1 1 , 4 1 2 , 4 1 3 , 4 1 4 , 4 1 5 , 4 1 6 , 4 1 7 , 4 1 8 , 4 1 9 , 4 2 0 , 4 2 1 , 4 2 2 , 4 2 3 , 4 2 4 , 4 2 5 , 4 2 6 , 4 2 7 , 4 2 8 , 4 2 9 , 4 3 0 , 4 3 1 , 4 3 2 , 4 3 3 , 4 3 4 , 4 3 5 , 4 3 6 , 4 3 7 , 4 3 8 , 4 3 9 , 4 4 0 , 4 4 1 , 4 4 2 , 4 4 3 , 4 4 4 , 4 4 5 , 4 4 6 , 4 4 7 , 4 4 8 , 4 4 9 , 4 5 0 , 4 5 1 , 4 5 2 , 4 5 3 , 4 5 4 , 4 5 5 , 4 5 6 , 4 5 7 , 4 5 8 , 4 5 9 , 4 6 0 , 4 6 1 , 4 6 2 , 4 6 3 , 4 6 4 , 4 6 5 , 4 6 6 , 4 6 7 , 4 6 8 , 4 6 9 , 4 7 0 , 4 7 1 , 4 7 2 , 4 7 3 , 4 7 4 , 4 7 5 , 4 7 6 , 4 7 7 , 4 7 8 , 4 7 9 , 4 8 0 , 4 8 1 , 4 8 2 , 4 8 3 , 4 8 4 , 4 8 5 , 4 8 6 , 4 8 7 , 4 8 8 , 4 8 9 , 4 9 0 , 4 9 1 , 4 9 2 , 4 9 3 , 4 9 4 , 4 9 5 , 4 9 6 , 4 9 7 , 4 9 8 , 4 9 9 , 5 0 0 , 5 0 1 , 5 0 2 , 5 0 3 , 5 0 4 , 5 0 5 , 5 0 6 , 5 0 7 , 5 0 8 , 5 0 9 , 5 1 0 , 5 1 1 , 5 1 2 , 5 1 3 , 5 1 4 , 5 1 5 , 5 1 6 , 5 1 7 , 5 1 8 , 5 1 9 , 5 2 0 , 5 2 1 , 5 2 2 , 5 2 3 , 5 2 4 , 5 2 5 , 5 2 6 , 5 2 7 , 5 2 8 , 5 2 9 , 5 3 0 , 5 3 1 , 5 3 2 , 5 3 3 , 5 3 4 , 5 3 5 , 5 3 6 , 5 3 7 , 5 3 8 , 5 3 9 , 5 4 0 , 5 4 1 , 5 4 2 , 5 4 3 , '},\n",
       " {'role': 'user',\n",
       "  'content': 'Sequence: 2 0 0 , 2 0 0 , 2 0 0 , 2 0 0 , 2 0 0 , 2 0 0 , 2 0 0 , 2 0 0 , 2 0 0 , 2 0 0 , 2 0 0 , 0 , 0 , 0 , 0 , 0 , 0 , 0 , 0 , 0 , 0 , 0 , 0 , 0 , 0 , 0 , 0 , 0 , 0 , 0 , 0 , 0 , 0 , 0 , 0 , 0 , 0 , 0 , 0 , 0 , 0 , 0 , 0 , 0 , 0 , 0 , 0 , 0 , 0 , 0 , 0 , 0 , 0 , 0 , 0 , 0 , 0 , 0 , 0 , 0 , 0 , 0 , 0 , 0 , 0 , 0 , 0 , 0 , 0 , 0 , 0 , 0 , 0 , 0 , 0 , 0 , 0 , 0 , 0 , 0 , 0 , 0 , 0 , 0 , 0 , 0 , 0 , 0 , 0 , 0 , 0 , 0 , 0 , 0 , 2 0 0 , 2 0 0 , 2 0 0 , 2 0 0 , 2 0 0 , 2 0 0 , 2 0 0 , 2 0 0 , 2 0 0 , 2 0 0 , 2 0 0 , 2 0 0 , 2 0 0 , 2 0 0 , 2 0 0 , 0 , 0 , 0 , 0 , 0 , 0 , 0 , 0 , 0 , 0 , 0 , 0 , 0 , 0 , 0 , 0 , 0 , 0 , 0 , 0 , 0 , 0 , 0 , 0 , 0 , 0 , 0 , 0 , 0 , 0 , 0 , 0 , 0 , 0 , 0 , 0 , 0 , 0 , 0 , 0 , 0 , 0 , 0 , 0 , 0 , 0 , 0 , 0 , 0 , 0 , 0 , 0 , 0 , 0 , 0 , 0 , 0 , 0 , 0 , 0 , 0 , 0 , 0 , 0 , 0 , 0 , 0 , 0 , 0 , 0 , 0 , 0 , 0 , 0 , 0 , 0 , 0 , 0 , 0 , 0 , 0 , 0 , 2 0 0 , 2 0 0 , 2 0 0 , 2 0 0 , 2 0 0 , 2 0 0 , 2 0 0 , 2 0 0 , 2 0 0 , 2 0 0 , 2 0 0 , 2 0 0 , 2 0 0 , 2 0 0 , 2 0 0 , 0 , 0 , 0 , 0 , 0 , 0 , 0 , 0 , 0 , 0 , 0 , 0 , 0 , 0 , 0 , 0 , 0 , 0 , 0 , 0 , 0 , 0 , 0 , 0 , 0 , 0 , 0 , 0 , 0 , 0 , 0 , 0 , 0 , 0 , 0 , 0 , 0 , 0 , 0 , 0 , 0 , 0 , 0 , 0 , 0 , 0 , 0 , 0 , 0 , 0 , 0 , 0 , 0 , 0 , 0 , 0 , 0 , 0 , 0 , 0 , 0 , 0 , 0 , 0 , 0 , 0 , 0 , 0 , 0 , 0 , 0 , 0 , 0 , 0 , 0 , 0 , 0 , 0 , 0 , 0 , 0 , 0 , 0 , 2 0 0 , 2 0 0 , 2 0 0 , 2 0 0 , 2 0 0 , 2 0 0 , 2 0 0 , 2 0 0 , 2 0 0 , 2 0 0 , 2 0 0 , 2 0 0 , 2 0 0 , 2 0 0 , 2 0 0 , 2 0 0 , 2 0 0 , 2 0 0 , 2 0 0 , 2 0 0 , 2 0 0 , 2 0 0 , 2 0 0 , 2 0 0 , 2 0 0 , 2 0 0 , 2 0 0 , 2 0 0 , 0 , 0 , 0 , 0 , 0 , 0 , 0 , 0 , 0 , 0 , 0 , 0 , 0 , 0 , 0 , 0 , 0 , 0 , 0 , 0 , 0 , 0 , 0 , 0 , 0 , 0 , 0 , 0 , 0 , 0 , 0 , 0 , 0 , 0 , 0 , 0 , 0 , 0 , 0 , 0 , 0 , 0 , 0 , 0 , 0 , 0 , 0 , 0 , 0 , 0 , 0 , 0 , 0 , 0 , 0 , 0 , 0 , 0 , 0 , 0 , 0 , 0 , 0 , 0 , 0 , 0 , 0 , 0 , 0 , 2 0 0 , 2 0 0 , 2 0 0 , 2 0 0 , 2 0 0 , 2 0 0 , 2 0 0 , 2 0 0 , 2 0 0 , 2 0 0 , 2 0 0 , 2 0 0 , 2 0 0 , 2 0 0 , 0 , 0 , 0 , 0 , 0 , 0 , 0 , 0 , 0 , 0 , 0 , 0 , 0 , 0 , 0 , 0 , 0 , 0 , 0 , 0 , 0 , 0 , 0 , 0 , 0 , 0 , 0 , 0 , 0 , 0 , 0 , 0 , 0 , 0 , 0 , 0 , 0 , 0 , 0 , 0 , 0 , 0 , 0 , 0 , 0 , 0 , 0 , 0 , 0 , 0 , 0 , 0 , 0 , 0 , 0 , 0 , 0 , 0 , 0 , 0 , 0 , 0 , 0 , 0 , 0 , 0 , 0 , 0 , 0 , 0 , 0 , 0 , 0 , 0 , 0 , 0 , 0 , 0 , 0 , 0 , 0 , 0 , 0 , 2 0 0 , 2 0 0 , 2 0 0 , 2 0 0 , 2 0 0 , 2 0 0 , 2 0 0 , 2 0 0 , 2 0 0 , 2 0 0 , 2 0 0 , 2 0 0 , 2 0 0 , 2 0 0 , 2 0 0 , 0 , 0 , 0 , 0 , 0 , 0 , 0 , 0 , 0 , 0 , 0 , 0 , 0 , 0 , 0 , 0 , 0 , 0 , 0 , 0 , 0 , 0 , 0 , 0 , 0 , 0 , 0 , 0 , 0 , 0 , 0 , 0 , 0 , 0 , 0 , 0 , 0 , 0 , 0 , 0 , 0 , 0 , 0 , 0 , 0 , 0 , 0 , 0 , 0 , 0 , 0 , 0 , 0 , 0 , 0 , 0 , 0 , 0 , 0 , 0 , 0 , 0 , 0 , 0 , 0 , 0 , 0 , 0 , 0 , 0 , 0 , 0 , 0 , 0 , 0 , 0 , 0 , 0 , 0 , 0 , 0 , 0 , 0 , 0 , 0 , 0 , 0 , 0 , 0 , 0 , 0 , 0 , 0 , 2 0 0 , 2 0 0 , 2 0 0 , 2 0 0 , 2 0 0 , 2 0 0 , 2 0 0 , 2 0 0 , 2 0 0 , '}]"
      ]
     },
     "execution_count": 13,
     "metadata": {},
     "output_type": "execute_result"
    }
   ],
   "source": [
    "m"
   ]
  },
  {
   "cell_type": "code",
   "execution_count": 14,
   "id": "1f811f3b",
   "metadata": {},
   "outputs": [],
   "source": [
    "ans = get_model_response(m)"
   ]
  },
  {
   "cell_type": "code",
   "execution_count": 15,
   "id": "ea16518a",
   "metadata": {},
   "outputs": [
    {
     "data": {
      "text/plain": [
       "'2 8 0 , 2 8 1 , 2 8 2 , 2 8 3 , 2 8 4 , 2 8 5 , 2 8 6 , 2 8 7 , 2 8 8 , 2 8 9 , 2 9 0 , 2 9 1 , 2 9 2 , 2 9 3 , 2 9 4 , 2 9 5 , 2 9 6 , 2 9 7 , 2 9 8 , 2 9 9 , 3 0 0 , 3 0 1 , 3 0 2 , 3 0 3 , 3 0 4 , 3 0 5 , 3 0 6 , 3 0 7 , 3 0 8 , 3 0 9 , 3 1 0 , '"
      ]
     },
     "execution_count": 15,
     "metadata": {},
     "output_type": "execute_result"
    }
   ],
   "source": [
    "e1_ano_ind"
   ]
  },
  {
   "cell_type": "code",
   "execution_count": 16,
   "id": "b2b29c3a",
   "metadata": {},
   "outputs": [],
   "source": [
    "l = create_list_ind(ans)"
   ]
  },
  {
   "cell_type": "code",
   "execution_count": 19,
   "id": "11a65eb7",
   "metadata": {},
   "outputs": [
    {
     "data": {
      "text/plain": [
       "[11, 109, 116, 214]"
      ]
     },
     "execution_count": 19,
     "metadata": {},
     "output_type": "execute_result"
    }
   ],
   "source": [
    "l"
   ]
  },
  {
   "cell_type": "code",
   "execution_count": null,
   "id": "fe5d631c",
   "metadata": {},
   "outputs": [],
   "source": [
    "# loop 100 times "
   ]
  }
 ],
 "metadata": {
  "kernelspec": {
   "display_name": "Python 3 (ipykernel)",
   "language": "python",
   "name": "python3"
  },
  "language_info": {
   "codemirror_mode": {
    "name": "ipython",
    "version": 3
   },
   "file_extension": ".py",
   "mimetype": "text/x-python",
   "name": "python",
   "nbconvert_exporter": "python",
   "pygments_lexer": "ipython3",
   "version": "3.8.16"
  }
 },
 "nbformat": 4,
 "nbformat_minor": 5
}
