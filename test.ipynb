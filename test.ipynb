{
 "cells": [
  {
   "cell_type": "code",
   "execution_count": 1,
   "id": "c2d767fb",
   "metadata": {},
   "outputs": [],
   "source": [
    "import pandas as pd\n",
    "from orion.data import load_signal, load_anomalies\n",
    "from lintel.utils import *"
   ]
  },
  {
   "cell_type": "code",
   "execution_count": 2,
   "id": "ffc21df5",
   "metadata": {},
   "outputs": [],
   "source": [
    "df = pd.DataFrame(columns = ['signal', 'sequence', 'ano_indices'])"
   ]
  },
  {
   "cell_type": "code",
   "execution_count": 3,
   "id": "6a6c3b92",
   "metadata": {},
   "outputs": [
    {
     "data": {
      "text/html": [
       "<div>\n",
       "<style scoped>\n",
       "    .dataframe tbody tr th:only-of-type {\n",
       "        vertical-align: middle;\n",
       "    }\n",
       "\n",
       "    .dataframe tbody tr th {\n",
       "        vertical-align: top;\n",
       "    }\n",
       "\n",
       "    .dataframe thead th {\n",
       "        text-align: right;\n",
       "    }\n",
       "</style>\n",
       "<table border=\"1\" class=\"dataframe\">\n",
       "  <thead>\n",
       "    <tr style=\"text-align: right;\">\n",
       "      <th></th>\n",
       "      <th>signal</th>\n",
       "      <th>sequence</th>\n",
       "      <th>ano_indices</th>\n",
       "    </tr>\n",
       "  </thead>\n",
       "  <tbody>\n",
       "  </tbody>\n",
       "</table>\n",
       "</div>"
      ],
      "text/plain": [
       "Empty DataFrame\n",
       "Columns: [signal, sequence, ano_indices]\n",
       "Index: []"
      ]
     },
     "execution_count": 3,
     "metadata": {},
     "output_type": "execute_result"
    }
   ],
   "source": [
    "df"
   ]
  },
  {
   "cell_type": "code",
   "execution_count": 4,
   "id": "92f18802",
   "metadata": {},
   "outputs": [],
   "source": [
    "train_data = load_signal('E-1')"
   ]
  },
  {
   "cell_type": "code",
   "execution_count": 5,
   "id": "b2f8aded",
   "metadata": {},
   "outputs": [],
   "source": [
    "train_label = load_anomalies('E-1')"
   ]
  },
  {
   "cell_type": "code",
   "execution_count": 6,
   "id": "33776b64",
   "metadata": {},
   "outputs": [
    {
     "data": {
      "text/html": [
       "<div>\n",
       "<style scoped>\n",
       "    .dataframe tbody tr th:only-of-type {\n",
       "        vertical-align: middle;\n",
       "    }\n",
       "\n",
       "    .dataframe tbody tr th {\n",
       "        vertical-align: top;\n",
       "    }\n",
       "\n",
       "    .dataframe thead th {\n",
       "        text-align: right;\n",
       "    }\n",
       "</style>\n",
       "<table border=\"1\" class=\"dataframe\">\n",
       "  <thead>\n",
       "    <tr style=\"text-align: right;\">\n",
       "      <th></th>\n",
       "      <th>start</th>\n",
       "      <th>end</th>\n",
       "    </tr>\n",
       "  </thead>\n",
       "  <tbody>\n",
       "    <tr>\n",
       "      <th>0</th>\n",
       "      <td>1393027200</td>\n",
       "      <td>1393675200</td>\n",
       "    </tr>\n",
       "    <tr>\n",
       "      <th>1</th>\n",
       "      <td>1406203200</td>\n",
       "      <td>1416484800</td>\n",
       "    </tr>\n",
       "  </tbody>\n",
       "</table>\n",
       "</div>"
      ],
      "text/plain": [
       "        start         end\n",
       "0  1393027200  1393675200\n",
       "1  1406203200  1416484800"
      ]
     },
     "execution_count": 6,
     "metadata": {},
     "output_type": "execute_result"
    }
   ],
   "source": [
    "train_label"
   ]
  },
  {
   "cell_type": "code",
   "execution_count": 7,
   "id": "fb190660",
   "metadata": {},
   "outputs": [
    {
     "name": "stdout",
     "output_type": "stream",
     "text": [
      "[7880, 7881, 7882, 7883, 7884, 7885, 7886, 7887, 7888, 7889, 7890, 7891, 7892, 7893, 7894, 7895, 7896, 7897, 7898, 7899, 7900, 7901, 7902, 7903, 7904, 7905, 7906, 7907, 7908, 7909, 7910]\n"
     ]
    }
   ],
   "source": [
    "print(train_data[(train_data.timestamp >= train_label.start[0]) & (train_data.timestamp <= train_label.end[0])].index.to_list())"
   ]
  },
  {
   "cell_type": "code",
   "execution_count": 8,
   "id": "f9f62300",
   "metadata": {},
   "outputs": [],
   "source": [
    "e7 = create_str_seq(train_data, 7900, 8700)"
   ]
  },
  {
   "cell_type": "code",
   "execution_count": 9,
   "id": "cfe2ba58",
   "metadata": {},
   "outputs": [],
   "source": [
    "e7_ano_ind = create_str_ind(8163-7900, 8443-7900)"
   ]
  },
  {
   "cell_type": "code",
   "execution_count": 10,
   "id": "f6595873",
   "metadata": {},
   "outputs": [],
   "source": [
    "e1 = create_str_seq(train_data, 7600, 8200)"
   ]
  },
  {
   "cell_type": "code",
   "execution_count": 11,
   "id": "56d1e05e",
   "metadata": {},
   "outputs": [],
   "source": [
    "e1_ano_ind = create_str_ind(7880-7600, 7910-7600)"
   ]
  },
  {
   "cell_type": "code",
   "execution_count": null,
   "id": "c64dc0e7",
   "metadata": {},
   "outputs": [],
   "source": [
    "m = get_message_with_example(e1, e7, e7_ano_ind)"
   ]
  },
  {
   "cell_type": "code",
   "execution_count": null,
   "id": "176b2765",
   "metadata": {},
   "outputs": [],
   "source": [
    "m"
   ]
  },
  {
   "cell_type": "code",
   "execution_count": null,
   "id": "1f811f3b",
   "metadata": {},
   "outputs": [],
   "source": [
    "ans = get_model_response(m)"
   ]
  },
  {
   "cell_type": "code",
   "execution_count": null,
   "id": "ea16518a",
   "metadata": {},
   "outputs": [],
   "source": [
    "e1_ano_ind"
   ]
  },
  {
   "cell_type": "code",
   "execution_count": null,
   "id": "b2b29c3a",
   "metadata": {},
   "outputs": [],
   "source": [
    "l = create_list_ind(ans)"
   ]
  },
  {
   "cell_type": "code",
   "execution_count": null,
   "id": "11a65eb7",
   "metadata": {},
   "outputs": [],
   "source": [
    "l"
   ]
  },
  {
   "cell_type": "code",
   "execution_count": null,
   "id": "fe5d631c",
   "metadata": {},
   "outputs": [],
   "source": [
    "# loop 100 times \n",
    "\n",
    "for i in "
   ]
  },
  {
   "cell_type": "code",
   "execution_count": null,
   "id": "2dca2ad7",
   "metadata": {},
   "outputs": [],
   "source": [
    "m0 = get_message_zero_shot(e1)"
   ]
  },
  {
   "cell_type": "code",
   "execution_count": null,
   "id": "68cec9e1",
   "metadata": {},
   "outputs": [],
   "source": [
    "ans_0 = get_model_response(m0)"
   ]
  },
  {
   "cell_type": "code",
   "execution_count": null,
   "id": "66a70075",
   "metadata": {},
   "outputs": [],
   "source": [
    "ans_0"
   ]
  },
  {
   "cell_type": "code",
   "execution_count": null,
   "id": "9365aa94",
   "metadata": {},
   "outputs": [],
   "source": [
    "create_list_ind(ans_0)"
   ]
  },
  {
   "cell_type": "code",
   "execution_count": 45,
   "id": "c0badd60",
   "metadata": {},
   "outputs": [],
   "source": [
    "def avg_predicted_prob(message_fn, seq_query, seq_ex, ano_ind_ex, system_prompt_file='system_prompt.txt', max_iter = 5):\n",
    "    m = message_fn(seq_query, seq_ex, ano_ind_ex, system_prompt_file='system_prompt.txt')\n",
    "    seq = create_list_ind(seq_query)\n",
    "    predicted = [0 for i in range(len(seq))]\n",
    "    for _ in range(max_iter):\n",
    "        ans = get_model_response(m)\n",
    "        try:\n",
    "            ans_list = create_list_ind(ans)\n",
    "        except: \n",
    "            continue\n",
    "        for i in ans_list: \n",
    "            try:\n",
    "                predicted[i] += 1/max_iter\n",
    "            except: \n",
    "                pass\n",
    "    return predicted\n",
    "    "
   ]
  },
  {
   "cell_type": "code",
   "execution_count": 46,
   "id": "728b2e5d",
   "metadata": {},
   "outputs": [],
   "source": [
    "pred = avg_predicted_prob(get_message_zero_shot, e1, e7, e7_ano_ind)"
   ]
  },
  {
   "cell_type": "code",
   "execution_count": 51,
   "id": "c8531c42",
   "metadata": {},
   "outputs": [],
   "source": [
    "pred_one_shot = avg_predicted_prob(get_message_with_example, e1, e7, e7_ano_ind)"
   ]
  },
  {
   "cell_type": "code",
   "execution_count": 47,
   "id": "619b0d05",
   "metadata": {},
   "outputs": [],
   "source": [
    "e1_ano_ind = list(range(7880-7600, 7910-7600+1))"
   ]
  },
  {
   "cell_type": "code",
   "execution_count": 48,
   "id": "0bf55789",
   "metadata": {},
   "outputs": [],
   "source": [
    "true_label = [0 for i in range(8200-7600+1)]\n",
    "for i in range(8200-7600+1): \n",
    "    if i in e1_ano_ind:\n",
    "        true_label[i] = 1"
   ]
  },
  {
   "cell_type": "code",
   "execution_count": 53,
   "id": "7ea4ce16",
   "metadata": {},
   "outputs": [
    {
     "data": {
      "text/plain": [
       "<matplotlib.legend.Legend at 0x7fc1b3976610>"
      ]
     },
     "execution_count": 53,
     "metadata": {},
     "output_type": "execute_result"
    },
    {
     "data": {
      "image/png": "[encoded data removed]",
      "text/plain": [
       "<Figure size 640x480 with 1 Axes>"
      ]
     },
     "metadata": {},
     "output_type": "display_data"
    }
   ],
   "source": [
    "import matplotlib.pyplot as plt\n",
    "plt.bar(list(range(8200-7600+1)), pred_one_shot, label = 'one-shot predicted')\n",
    "plt.bar(list(range(8200-7600+1)), pred, label = 'zero-shot predicted', alpha = 0.8)\n",
    "plt.bar(list(range(8200-7600+1)), true_label, label = 'true anomaly', alpha = 0.8)\n",
    "plt.legend()"
   ]
  },
  {
   "cell_type": "code",
   "execution_count": 40,
   "id": "308a9d4e",
   "metadata": {},
   "outputs": [
    {
     "data": {
      "text/plain": [
       "'2 0 0 , 2 0 0 , 2 0 0 , 2 0 0 , 2 0 0 , 2 0 0 , 2 0 0 , 2 0 0 , 2 0 0 , 2 0 0 , 2 0 0 , 0 , 0 , 0 , 0 , 0 , 0 , 0 , 0 , 0 , 0 , 0 , 0 , 0 , 0 , 0 , 0 , 0 , 0 , 0 , 0 , 0 , 0 , 0 , 0 , 0 , 0 , 0 , 0 , 0 , 0 , 0 , 0 , 0 , 0 , 0 , 0 , 0 , 0 , 0 , 0 , 0 , 0 , 0 , 0 , 0 , 0 , 0 , 0 , 0 , 0 , 0 , 0 , 0 , 0 , 0 , 0 , 0 , 0 , 0 , 0 , 0 , 0 , 0 , 0 , 0 , 0 , 0 , 0 , 0 , 0 , 0 , 0 , 0 , 0 , 0 , 0 , 0 , 0 , 0 , 0 , 0 , 0 , 0 , 2 0 0 , 2 0 0 , 2 0 0 , 2 0 0 , 2 0 0 , 2 0 0 , 2 0 0 , 2 0 0 , 2 0 0 , 2 0 0 , 2 0 0 , 2 0 0 , 2 0 0 , 2 0 0 , 2 0 0 , 0 , 0 , 0 , 0 , 0 , 0 , 0 , 0 , 0 , 0 , 0 , 0 , 0 , 0 , 0 , 0 , 0 , 0 , 0 , 0 , 0 , 0 , 0 , 0 , 0 , 0 , 0 , 0 , 0 , 0 , 0 , 0 , 0 , 0 , 0 , 0 , 0 , 0 , 0 , 0 , 0 , 0 , 0 , 0 , 0 , 0 , 0 , 0 , 0 , 0 , 0 , 0 , 0 , 0 , 0 , 0 , 0 , 0 , 0 , 0 , 0 , 0 , 0 , 0 , 0 , 0 , 0 , 0 , 0 , 0 , 0 , 0 , 0 , 0 , 0 , 0 , 0 , 0 , 0 , 0 , 0 , 0 , 2 0 0 , 2 0 0 , 2 0 0 , 2 0 0 , 2 0 0 , 2 0 0 , 2 0 0 , 2 0 0 , 2 0 0 , 2 0 0 , 2 0 0 , 2 0 0 , 2 0 0 , 2 0 0 , 2 0 0 , 0 , 0 , 0 , 0 , 0 , 0 , 0 , 0 , 0 , 0 , 0 , 0 , 0 , 0 , 0 , 0 , 0 , 0 , 0 , 0 , 0 , 0 , 0 , 0 , 0 , 0 , 0 , 0 , 0 , 0 , 0 , 0 , 0 , 0 , 0 , 0 , 0 , 0 , 0 , 0 , 0 , 0 , 0 , 0 , 0 , 0 , 0 , 0 , 0 , 0 , 0 , 0 , 0 , 0 , 0 , 0 , 0 , 0 , 0 , 0 , 0 , 0 , 0 , 0 , 0 , 0 , 0 , 0 , 0 , 0 , 0 , 0 , 0 , 0 , 0 , 0 , 0 , 0 , 0 , 0 , 0 , 0 , 0 , 2 0 0 , 2 0 0 , 2 0 0 , 2 0 0 , 2 0 0 , 2 0 0 , 2 0 0 , 2 0 0 , 2 0 0 , 2 0 0 , 2 0 0 , 2 0 0 , 2 0 0 , 2 0 0 , 2 0 0 , 2 0 0 , 2 0 0 , 2 0 0 , 2 0 0 , 2 0 0 , 2 0 0 , 2 0 0 , 2 0 0 , 2 0 0 , 2 0 0 , 2 0 0 , 2 0 0 , 2 0 0 , 0 , 0 , 0 , 0 , 0 , 0 , 0 , 0 , 0 , 0 , 0 , 0 , 0 , 0 , 0 , 0 , 0 , 0 , 0 , 0 , 0 , 0 , 0 , 0 , 0 , 0 , 0 , 0 , 0 , 0 , 0 , 0 , 0 , 0 , 0 , 0 , 0 , 0 , 0 , 0 , 0 , 0 , 0 , 0 , 0 , 0 , 0 , 0 , 0 , 0 , 0 , 0 , 0 , 0 , 0 , 0 , 0 , 0 , 0 , 0 , 0 , 0 , 0 , 0 , 0 , 0 , 0 , 0 , 0 , 2 0 0 , 2 0 0 , 2 0 0 , 2 0 0 , 2 0 0 , 2 0 0 , 2 0 0 , 2 0 0 , 2 0 0 , 2 0 0 , 2 0 0 , 2 0 0 , 2 0 0 , 2 0 0 , 0 , 0 , 0 , 0 , 0 , 0 , 0 , 0 , 0 , 0 , 0 , 0 , 0 , 0 , 0 , 0 , 0 , 0 , 0 , 0 , 0 , 0 , 0 , 0 , 0 , 0 , 0 , 0 , 0 , 0 , 0 , 0 , 0 , 0 , 0 , 0 , 0 , 0 , 0 , 0 , 0 , 0 , 0 , 0 , 0 , 0 , 0 , 0 , 0 , 0 , 0 , 0 , 0 , 0 , 0 , 0 , 0 , 0 , 0 , 0 , 0 , 0 , 0 , 0 , 0 , 0 , 0 , 0 , 0 , 0 , 0 , 0 , 0 , 0 , 0 , 0 , 0 , 0 , 0 , 0 , 0 , 0 , 0 , 2 0 0 , 2 0 0 , 2 0 0 , 2 0 0 , 2 0 0 , 2 0 0 , 2 0 0 , 2 0 0 , 2 0 0 , 2 0 0 , 2 0 0 , 2 0 0 , 2 0 0 , 2 0 0 , 2 0 0 , 0 , 0 , 0 , 0 , 0 , 0 , 0 , 0 , 0 , 0 , 0 , 0 , 0 , 0 , 0 , 0 , 0 , 0 , 0 , 0 , 0 , 0 , 0 , 0 , 0 , 0 , 0 , 0 , 0 , 0 , 0 , 0 , 0 , 0 , 0 , 0 , 0 , 0 , 0 , 0 , 0 , 0 , 0 , 0 , 0 , 0 , 0 , 0 , 0 , 0 , 0 , 0 , 0 , 0 , 0 , 0 , 0 , 0 , 0 , 0 , 0 , 0 , 0 , 0 , 0 , 0 , 0 , 0 , 0 , 0 , 0 , 0 , 0 , 0 , 0 , 0 , 0 , 0 , 0 , 0 , 0 , 0 , 0 , 0 , 0 , 0 , 0 , 0 , 0 , 0 , 0 , 0 , 0 , 2 0 0 , 2 0 0 , 2 0 0 , 2 0 0 , 2 0 0 , 2 0 0 , 2 0 0 , 2 0 0 , 2 0 0 , '"
      ]
     },
     "execution_count": 40,
     "metadata": {},
     "output_type": "execute_result"
    }
   ],
   "source": [
    "e1"
   ]
  },
  {
   "cell_type": "code",
   "execution_count": null,
   "id": "fc100f5f",
   "metadata": {},
   "outputs": [],
   "source": []
  }
 ],
 "metadata": {
  "kernelspec": {
   "display_name": "Python 3 (ipykernel)",
   "language": "python",
   "name": "python3"
  },
  "language_info": {
   "codemirror_mode": {
    "name": "ipython",
    "version": 3
   },
   "file_extension": ".py",
   "mimetype": "text/x-python",
   "name": "python",
   "nbconvert_exporter": "python",
   "pygments_lexer": "ipython3",
   "version": "3.8.16"
  }
 },
 "nbformat": 4,
 "nbformat_minor": 5
}
