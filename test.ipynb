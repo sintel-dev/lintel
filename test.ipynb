{
 "cells": [
  {
   "cell_type": "code",
   "execution_count": 1,
   "id": "c2d767fb",
   "metadata": {},
   "outputs": [],
   "source": [
    "import pandas as pd\n",
    "from orion.data import load_signal, load_anomalies\n",
    "from lintel import utils\n",
    "import matplotlib.pyplot as plt"
   ]
  },
  {
   "cell_type": "code",
   "execution_count": 36,
   "id": "92f18802",
   "metadata": {},
   "outputs": [],
   "source": [
    "e1_signal = load_signal('E-1')\n",
    "e1_label = load_anomalies('E-1')\n",
    "e7_signal = load_signal('E-7')\n",
    "e7_label = load_anomalies('E-7')"
   ]
  },
  {
   "cell_type": "code",
   "execution_count": null,
   "id": "bd7bdd27",
   "metadata": {},
   "outputs": [],
   "source": [
    "e1_signal"
   ]
  },
  {
   "cell_type": "code",
   "execution_count": null,
   "id": "fb190660",
   "metadata": {},
   "outputs": [],
   "source": [
    "print(e1_signal[(e1_signal.timestamp >= e1_label.start[0]) & (e1_signal.timestamp <= e1_label.end[0])].index[0])\n",
    "print(e1_signal[(e1_signal.timestamp >= e1_label.start[0]) & (e1_signal.timestamp <= e1_label.end[0])].index[-1])"
   ]
  },
  {
   "cell_type": "code",
   "execution_count": null,
   "id": "a03072b5",
   "metadata": {},
   "outputs": [],
   "source": [
    "print(e7_signal[(e7_signal.timestamp >= e7_label.start[0]) & (e7_signal.timestamp <= e7_label.end[0])].index[0])\n",
    "print(e7_signal[(e7_signal.timestamp >= e7_label.start[0]) & (e7_signal.timestamp <= e7_label.end[0])].index[-1])"
   ]
  },
  {
   "cell_type": "code",
   "execution_count": null,
   "id": "f9f62300",
   "metadata": {},
   "outputs": [],
   "source": [
    "e7 = utils.signal_to_str(e7_signal, 7900, 8600)"
   ]
  },
  {
   "cell_type": "code",
   "execution_count": null,
   "id": "cfe2ba58",
   "metadata": {},
   "outputs": [],
   "source": [
    "e7_ano_ind = utils.indices_to_str(8163-7900, 8443-7900)"
   ]
  },
  {
   "cell_type": "code",
   "execution_count": null,
   "id": "f6595873",
   "metadata": {},
   "outputs": [],
   "source": [
    "e1 = utils.signal_to_str(e1_signal, 7400, 8300)"
   ]
  },
  {
   "cell_type": "code",
   "execution_count": null,
   "id": "56d1e05e",
   "metadata": {},
   "outputs": [],
   "source": [
    "e1_ano_ind = utils.indices_to_str(7880-7400, 7910-7400)"
   ]
  },
  {
   "cell_type": "code",
   "execution_count": null,
   "id": "c64dc0e7",
   "metadata": {},
   "outputs": [],
   "source": [
    "#m = utils.create_message_one_shot(e1, e7, e7_ano_ind)\n",
    "m = utils.create_message_zero_shot(e1)"
   ]
  },
  {
   "cell_type": "code",
   "execution_count": null,
   "id": "176b2765",
   "metadata": {},
   "outputs": [],
   "source": [
    "m"
   ]
  },
  {
   "cell_type": "code",
   "execution_count": null,
   "id": "1f811f3b",
   "metadata": {},
   "outputs": [],
   "source": [
    "ans = utils.get_model_response(m)"
   ]
  },
  {
   "cell_type": "code",
   "execution_count": null,
   "id": "ea16518a",
   "metadata": {},
   "outputs": [],
   "source": [
    "ans"
   ]
  },
  {
   "cell_type": "code",
   "execution_count": null,
   "id": "b2b29c3a",
   "metadata": {},
   "outputs": [],
   "source": [
    "l = utils.LLMresponse_to_list(ans, 7400, 8300)"
   ]
  },
  {
   "cell_type": "code",
   "execution_count": null,
   "id": "11a65eb7",
   "metadata": {},
   "outputs": [],
   "source": [
    "t = utils.indices_to_timestamp(e1_signal, l)"
   ]
  },
  {
   "cell_type": "code",
   "execution_count": null,
   "id": "dc268ae6",
   "metadata": {},
   "outputs": [],
   "source": [
    "e1_signal.iloc[7500].timestamp"
   ]
  },
  {
   "cell_type": "code",
   "execution_count": null,
   "id": "287dcced",
   "metadata": {},
   "outputs": [],
   "source": [
    "res = utils.evaluate([i for i in range(e1_label.start[0], e1_label.end[0] + 1)], t, int(e1_signal.iloc[7400].timestamp), int(e1_signal.iloc[8300].timestamp))"
   ]
  },
  {
   "cell_type": "code",
   "execution_count": null,
   "id": "23a39cbe",
   "metadata": {},
   "outputs": [],
   "source": [
    "res"
   ]
  },
  {
   "cell_type": "code",
   "execution_count": null,
   "id": "961105e3",
   "metadata": {},
   "outputs": [],
   "source": [
    "e1_signal.iloc[l]"
   ]
  },
  {
   "cell_type": "code",
   "execution_count": null,
   "id": "6cd06742",
   "metadata": {},
   "outputs": [],
   "source": [
    "plt.plot(e1_signal.iloc[7400:8301]['timestamp'], e1_signal.iloc[7400:8301]['value'])\n",
    "plt.axvline(x = e1_label.start[0], color = 'k', linestyle = \"--\")\n",
    "plt.axvline(x = e1_label.end[0], color = 'k', linestyle = \"--\")\n",
    "plt.scatter(t, e1_signal.iloc[l].value, color = 'C2', label = \"zero-shot\")\n",
    "# plt.scatter(l_2.iloc[GPT_res].index,l_2.iloc[GPT_res].values, color = 'C1', label = \"one-shot\")"
   ]
  },
  {
   "cell_type": "code",
   "execution_count": null,
   "id": "d086651b",
   "metadata": {},
   "outputs": [],
   "source": [
    "len(e1_signal)"
   ]
  },
  {
   "cell_type": "code",
   "execution_count": null,
   "id": "6c1128e5",
   "metadata": {},
   "outputs": [],
   "source": [
    "e1_signal.index[-1]"
   ]
  },
  {
   "cell_type": "code",
   "execution_count": 3,
   "id": "1cdde19f",
   "metadata": {},
   "outputs": [],
   "source": [
    "e1_signal = e1_signal[:5000]"
   ]
  },
  {
   "cell_type": "code",
   "execution_count": 7,
   "id": "c395fb54",
   "metadata": {},
   "outputs": [],
   "source": [
    "#For rolling windows\n",
    "size = 1000\n",
    "step = 100\n",
    "combine_res = []\n",
    "for start in range(0, len(e1_signal)-size, step): \n",
    "    stop = start + size\n",
    "    trunc_signal_str = utils.signal_to_str(e1_signal, start, stop)\n",
    "    m = utils.create_message_zero_shot(trunc_signal_str)\n",
    "    ans = utils.get_model_response(m)\n",
    "    try:\n",
    "        l = utils.LLMresponse_to_list(ans, start, stop)\n",
    "    except ValueError: \n",
    "        print(ans)\n",
    "    t = utils.indices_to_timestamp(e1_signal, l)\n",
    "    combine_res.append(t)"
   ]
  },
  {
   "cell_type": "code",
   "execution_count": 8,
   "id": "9911c2d0",
   "metadata": {},
   "outputs": [
    {
     "data": {
      "text/plain": [
       "40"
      ]
     },
     "execution_count": 8,
     "metadata": {},
     "output_type": "execute_result"
    }
   ],
   "source": [
    "len(combine_res)"
   ]
  },
  {
   "cell_type": "code",
   "execution_count": 25,
   "id": "f67b7047",
   "metadata": {},
   "outputs": [
    {
     "data": {
      "image/png": "[encoded data removed]",
      "text/plain": [
       "<Figure size 640x480 with 1 Axes>"
      ]
     },
     "metadata": {},
     "output_type": "display_data"
    }
   ],
   "source": [
    "#plt.scatter(e1_signal[:5000]['timestamp'], [1 for i in range(5000)], color = 'grey', alpha = 0.1)\n",
    "for res in combine_res[:3]:\n",
    "    plt.scatter(res, [1 for i in range(len(res))], alpha = 0.5)\n",
    "#plt.scatter(combine_res[1], [1 for i in range(len(combine_res[1]))], alpha = 0.2)"
   ]
  },
  {
   "cell_type": "code",
   "execution_count": 27,
   "id": "6326a854",
   "metadata": {},
   "outputs": [
    {
     "data": {
      "text/plain": [
       "5270400"
      ]
     },
     "execution_count": 27,
     "metadata": {},
     "output_type": "execute_result"
    }
   ],
   "source": [
    "combine_res[3][-1] - combine_res[3][0]"
   ]
  },
  {
   "cell_type": "code",
   "execution_count": 37,
   "id": "b0e2067a",
   "metadata": {},
   "outputs": [
    {
     "data": {
      "text/plain": [
       "[<matplotlib.lines.Line2D at 0x7facc5c2d070>]"
      ]
     },
     "execution_count": 37,
     "metadata": {},
     "output_type": "execute_result"
    },
    {
     "data": {
      "image/png": "[encoded data removed]",
      "text/plain": [
       "<Figure size 640x480 with 1 Axes>"
      ]
     },
     "metadata": {},
     "output_type": "display_data"
    }
   ],
   "source": [
    "plt.plot(e1_signal.iloc[7400:8300].index, e1_signal.iloc[7400:8300].value)"
   ]
  },
  {
   "cell_type": "code",
   "execution_count": 38,
   "id": "10ad5ad6",
   "metadata": {},
   "outputs": [
    {
     "data": {
      "text/plain": [
       "[<matplotlib.lines.Line2D at 0x7facb0926f10>]"
      ]
     },
     "execution_count": 38,
     "metadata": {},
     "output_type": "execute_result"
    },
    {
     "data": {
      "image/png": "[encoded data removed]",
      "text/plain": [
       "<Figure size 640x480 with 1 Axes>"
      ]
     },
     "metadata": {},
     "output_type": "display_data"
    }
   ],
   "source": [
    "plt.plot(e1_signal.iloc[7400:8300].timestamp, e1_signal.iloc[7400:8300].value)"
   ]
  },
  {
   "cell_type": "code",
   "execution_count": 39,
   "id": "d6e93709",
   "metadata": {},
   "outputs": [
    {
     "data": {
      "text/html": [
       "<div>\n",
       "<style scoped>\n",
       "    .dataframe tbody tr th:only-of-type {\n",
       "        vertical-align: middle;\n",
       "    }\n",
       "\n",
       "    .dataframe tbody tr th {\n",
       "        vertical-align: top;\n",
       "    }\n",
       "\n",
       "    .dataframe thead th {\n",
       "        text-align: right;\n",
       "    }\n",
       "</style>\n",
       "<table border=\"1\" class=\"dataframe\">\n",
       "  <thead>\n",
       "    <tr style=\"text-align: right;\">\n",
       "      <th></th>\n",
       "      <th>timestamp</th>\n",
       "      <th>value</th>\n",
       "    </tr>\n",
       "  </thead>\n",
       "  <tbody>\n",
       "    <tr>\n",
       "      <th>0</th>\n",
       "      <td>1222819200</td>\n",
       "      <td>-1.0</td>\n",
       "    </tr>\n",
       "    <tr>\n",
       "      <th>1</th>\n",
       "      <td>1222840800</td>\n",
       "      <td>-1.0</td>\n",
       "    </tr>\n",
       "    <tr>\n",
       "      <th>2</th>\n",
       "      <td>1222862400</td>\n",
       "      <td>-1.0</td>\n",
       "    </tr>\n",
       "    <tr>\n",
       "      <th>3</th>\n",
       "      <td>1222884000</td>\n",
       "      <td>-1.0</td>\n",
       "    </tr>\n",
       "    <tr>\n",
       "      <th>4</th>\n",
       "      <td>1222905600</td>\n",
       "      <td>-1.0</td>\n",
       "    </tr>\n",
       "    <tr>\n",
       "      <th>...</th>\n",
       "      <td>...</td>\n",
       "      <td>...</td>\n",
       "    </tr>\n",
       "    <tr>\n",
       "      <th>11391</th>\n",
       "      <td>1468864800</td>\n",
       "      <td>-1.0</td>\n",
       "    </tr>\n",
       "    <tr>\n",
       "      <th>11392</th>\n",
       "      <td>1468886400</td>\n",
       "      <td>-1.0</td>\n",
       "    </tr>\n",
       "    <tr>\n",
       "      <th>11393</th>\n",
       "      <td>1468908000</td>\n",
       "      <td>-1.0</td>\n",
       "    </tr>\n",
       "    <tr>\n",
       "      <th>11394</th>\n",
       "      <td>1468929600</td>\n",
       "      <td>-1.0</td>\n",
       "    </tr>\n",
       "    <tr>\n",
       "      <th>11395</th>\n",
       "      <td>1468951200</td>\n",
       "      <td>-1.0</td>\n",
       "    </tr>\n",
       "  </tbody>\n",
       "</table>\n",
       "<p>11396 rows × 2 columns</p>\n",
       "</div>"
      ],
      "text/plain": [
       "        timestamp  value\n",
       "0      1222819200   -1.0\n",
       "1      1222840800   -1.0\n",
       "2      1222862400   -1.0\n",
       "3      1222884000   -1.0\n",
       "4      1222905600   -1.0\n",
       "...           ...    ...\n",
       "11391  1468864800   -1.0\n",
       "11392  1468886400   -1.0\n",
       "11393  1468908000   -1.0\n",
       "11394  1468929600   -1.0\n",
       "11395  1468951200   -1.0\n",
       "\n",
       "[11396 rows x 2 columns]"
      ]
     },
     "execution_count": 39,
     "metadata": {},
     "output_type": "execute_result"
    }
   ],
   "source": [
    "e1_signal"
   ]
  },
  {
   "cell_type": "code",
   "execution_count": null,
   "id": "16e6dfb0",
   "metadata": {},
   "outputs": [],
   "source": [
    "utils.LLMresponse_to_list(\"6, 7, 8, 9, 10, 11, 12, 13, 14, 15, 16, 17, 18, 19, 20, 21, 22, 23, 24, 25, 26, 27, 28, 29, 30, 31, 32, 33, 34, 35, 36, 37, 38, 39, 40, 41, 42, 43, 44, 45, 46, 47, 48, 49, 97, 98, 99, 100, 101, 102, 103, 104, 105, 106, 107, 108, 109, 110, 111, 112, 113, 161, 162, 163, 164, 165, 166, 167, 168, 169, 170, 171, 172, 173, 174, 175, 176, 177, 178, 179, 180, 181, 182, 183, 184, 185, 186, 187, 188, 189, 190, 191, 192, 193, 194, 195, 196, 197, 198, 199, 200, 201, 202, 203, 204, 205, 206, 207, 208, 209, 257, 258, 259, 260, 261, 262, 263, 264, 265, 266, 267, 268, 269, 270, 271, 272, 273, 274, 275, 276, 277, 278, 279, 280, 281, 282, 283, 284, 285, 286, 287, 288, 289, 290, 291, 292, 293, 294, 295, 296, 297, 298, 299, 300, 301, 302, 303, 304, 305, 306, 307, 308, 309, 310, 311, 312, 313, 314, 315, 316, 317, 318, 319, 320, 369, 370, 371, 372, 373, 374, 375, 376, 377, 378,\", 0, 500)"
   ]
  },
  {
   "cell_type": "code",
   "execution_count": null,
   "id": "1b0a7853",
   "metadata": {},
   "outputs": [],
   "source": [
    "answer = \"6, 7, 8, 9, 10, 11, 12, 13, 14, 15, 16, 17, 18, 19, 20, 21, 22, 23, 24, 25, 26, 27, 28, 29, 30, 31, 32, 33, 34, 35, 36, 37, 38, 39, 40, 41, 42, 43, 44, 45, 46, 47, 48, 49, 97, 98, 99, 100, 101, 102, 103, 104, 105, 106, 107, 108, 109, 110, 111, 112, 113, 161, 162, 163, 164, 165, 166, 167, 168, 169, 170, 171, 172, 173, 174, 175, 176, 177, 178, 179, 180, 181, 182, 183, 184, 185, 186, 187, 188, 189, 190, 191, 192, 193, 194, 195, 196, 197, 198, 199, 200, 201, 202, 203, 204, 205, 206, 207, 208, 209, 257, 258, 259, 260, 261, 262, 263, 264, 265, 266, 267, 268, 269, 270, 271, 272, 273, 274, 275, 276, 277, 278, 279, 280, 281, 282, 283, 284, 285, 286, 287, 288, 289, 290, 291, 292, 293, 294, 295, 296, 297, 298, 299, 300, 301, 302, 303, 304, 305, 306, 307, 308, 309, 310, 311, 312, 313, 314, 315, 316, 317, 318, 319, 320, 369, 370, 371, 372, 373, 374, 375, 376, 377, 378,\"\n",
    "#remove space between digits\n",
    "ans = answer.replace(\" \", \"\")\n",
    "#remove square brackets\n",
    "ans = ans.replace(\"[\", \"\")\n",
    "ans = ans.replace(\"]\", \"\")\n",
    "#remove the extra comma at the end\n",
    "if ans[-1] == \",\": \n",
    "    ans = ans[:-1]\n",
    "in_list = ans.split(\",\")\n",
    "ind_list = [int(i) for i in in_list]\n",
    "\n",
    "#remove indices that exceed the length of signal\n",
    "signal_length = stop - start + 1\n",
    "ind_list = [i for i in ind_list if i < signal_length]\n",
    "\n",
    "#convert index of the truncated list back to the index of original signal \n",
    "ind_list = [i + start for i in ind_list]"
   ]
  },
  {
   "cell_type": "code",
   "execution_count": null,
   "id": "69daade9",
   "metadata": {},
   "outputs": [],
   "source": [
    "def avg_predicted_prob(message_fn, seq_query, seq_ex, ano_ind_ex, system_prompt_file='system_prompt.txt', max_iter = 5):\n",
    "    m = message_fn(seq_query, seq_ex, ano_ind_ex, system_prompt_file='system_prompt.txt')\n",
    "    seq = create_list_ind(seq_query)\n",
    "    predicted = [0 for i in range(len(seq))]\n",
    "    for _ in range(max_iter):\n",
    "        ans = get_model_response(m)\n",
    "        try:\n",
    "            ans_list = create_list_ind(ans)\n",
    "        except: \n",
    "            continue\n",
    "        for i in ans_list: \n",
    "            try:\n",
    "                predicted[i] += 1/max_iter\n",
    "            except: \n",
    "                #More specific error\n",
    "                pass\n",
    "    return predicted\n",
    "    "
   ]
  },
  {
   "cell_type": "code",
   "execution_count": null,
   "id": "8ee87c7d",
   "metadata": {},
   "outputs": [],
   "source": [
    "pred = avg_predicted_prob(get_message_zero_shot, e1, e7, e7_ano_ind)"
   ]
  },
  {
   "cell_type": "code",
   "execution_count": null,
   "id": "8beda395",
   "metadata": {},
   "outputs": [],
   "source": [
    "pred_one_shot = avg_predicted_prob(get_message_with_example, e1, e7, e7_ano_ind)"
   ]
  },
  {
   "cell_type": "code",
   "execution_count": null,
   "id": "4ae22058",
   "metadata": {},
   "outputs": [],
   "source": [
    "e1_ano_ind = list(range(7880-7600, 7910-7600+1))"
   ]
  },
  {
   "cell_type": "code",
   "execution_count": null,
   "id": "ee0db8ee",
   "metadata": {},
   "outputs": [],
   "source": [
    "true_label = [0 for i in range(8200-7600+1)]\n",
    "for i in range(8200-7600+1): \n",
    "    if i in e1_ano_ind:\n",
    "        true_label[i] = 1"
   ]
  },
  {
   "cell_type": "code",
   "execution_count": null,
   "id": "c4da01e6",
   "metadata": {},
   "outputs": [],
   "source": [
    "import matplotlib.pyplot as plt\n",
    "plt.bar(list(range(8200-7600+1)), pred_one_shot, label = 'one-shot predicted')\n",
    "plt.bar(list(range(8200-7600+1)), pred, label = 'zero-shot predicted', alpha = 0.8)\n",
    "plt.bar(list(range(8200-7600+1)), true_label, label = 'true anomaly', alpha = 0.8)\n",
    "plt.legend()"
   ]
  },
  {
   "cell_type": "code",
   "execution_count": null,
   "id": "bd94be47",
   "metadata": {},
   "outputs": [],
   "source": [
    "e1"
   ]
  },
  {
   "cell_type": "code",
   "execution_count": null,
   "id": "0d95df71",
   "metadata": {},
   "outputs": [],
   "source": [
    "#test space option\n",
    "e1 = signal_to_str(train_data, 7600, 8200, space = False)"
   ]
  },
  {
   "cell_type": "code",
   "execution_count": null,
   "id": "feb40198",
   "metadata": {},
   "outputs": [],
   "source": [
    "e1"
   ]
  },
  {
   "cell_type": "code",
   "execution_count": null,
   "id": "7d703e97",
   "metadata": {},
   "outputs": [],
   "source": [
    "from orion.evaluation.point import point_accuracy, point_f1_score "
   ]
  },
  {
   "cell_type": "code",
   "execution_count": null,
   "id": "3055699b",
   "metadata": {},
   "outputs": [],
   "source": [
    "data_span = (1222819200, 1222819205)\n",
    "ground_truth = [\n",
    "    1222819200, \n",
    "    1222819201, \n",
    "    1222819202\n",
    "]\n",
    "anomalies = [\n",
    "    1222819201, \n",
    "    1222819202, \n",
    "    1222819203\n",
    "]"
   ]
  },
  {
   "cell_type": "code",
   "execution_count": null,
   "id": "25a6ff54",
   "metadata": {},
   "outputs": [],
   "source": [
    "from orion.evaluation.point import point_accuracy, point_f1_score \n",
    "\n",
    "start, end = data_span\n",
    "\n",
    "point_accuracy(ground_truth, anomalies, start=start, end=end) # 0.667\n",
    "point_f1_score(ground_truth, anomalies, start=start, end=end) # 0.667"
   ]
  },
  {
   "cell_type": "code",
   "execution_count": null,
   "id": "2447c1b2",
   "metadata": {},
   "outputs": [],
   "source": [
    "d = {\"a\": 1}"
   ]
  },
  {
   "cell_type": "code",
   "execution_count": null,
   "id": "33035700",
   "metadata": {},
   "outputs": [],
   "source": [
    "d['a']"
   ]
  },
  {
   "cell_type": "code",
   "execution_count": null,
   "id": "4d997f02",
   "metadata": {},
   "outputs": [],
   "source": [
    "\n",
    "\n"
   ]
  }
 ],
 "metadata": {
  "kernelspec": {
   "display_name": "Python 3 (ipykernel)",
   "language": "python",
   "name": "python3"
  },
  "language_info": {
   "codemirror_mode": {
    "name": "ipython",
    "version": 3
   },
   "file_extension": ".py",
   "mimetype": "text/x-python",
   "name": "python",
   "nbconvert_exporter": "python",
   "pygments_lexer": "ipython3",
   "version": "3.8.16"
  }
 },
 "nbformat": 4,
 "nbformat_minor": 5
}
