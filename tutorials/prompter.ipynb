{
 "cells": [
  {
   "cell_type": "code",
   "execution_count": 7,
   "id": "e6707064",
   "metadata": {},
   "outputs": [],
   "source": [
    "from data import rolling_window_sequences\n",
    "from orion.data import load_signal, load_anomalies\n",
    "from sigllm import get_anomalies\n",
    "from gpt import get_gpt_model_response, create_message_zero_shot\n",
    "from anomalies import merge_anomaly_seq\n",
    "import numpy as np"
   ]
  },
  {
   "cell_type": "code",
   "execution_count": 2,
   "id": "f683c7f7",
   "metadata": {},
   "outputs": [],
   "source": [
    "#Load the signal and true anomalies\n",
    "signal_name = 'M-7'\n",
    "signal = load_signal(signal_name)\n",
    "true_ano = load_anomalies(signal_name)"
   ]
  },
  {
   "cell_type": "code",
   "execution_count": 3,
   "id": "533566d5",
   "metadata": {},
   "outputs": [],
   "source": [
    "#Get values and indices of signal \n",
    "values = signal['value'].values\n",
    "indices = signal.index.values"
   ]
  },
  {
   "cell_type": "code",
   "execution_count": 4,
   "id": "a488bc32",
   "metadata": {},
   "outputs": [],
   "source": [
    "#make rolling windows\n",
    "window_size = 2500\n",
    "step_size = 500\n",
    "windows, start_indices = rolling_window_sequences(values, indices, window_size, step_size)"
   ]
  },
  {
   "cell_type": "code",
   "execution_count": 5,
   "id": "35c41874",
   "metadata": {},
   "outputs": [],
   "source": [
    "#rolling window anomaly detection\n",
    "final_ano = []\n",
    "i = 0\n",
    "for seq in windows: \n",
    "    #to print out where the error was thrown out\n",
    "    i+= 1\n",
    "    try:\n",
    "        final_ano.append(get_anomalies(seq, create_message_zero_shot, get_gpt_model_response))\n",
    "    except Exception as error:\n",
    "        print(error)\n",
    "        print(i)\n",
    "        break"
   ]
  },
  {
   "cell_type": "code",
   "execution_count": 8,
   "id": "b49c4fbf",
   "metadata": {},
   "outputs": [],
   "source": [
    "final_res = merge_anomaly_seq(final_ano, start_indices, window_size, step_size, beta = 0)"
   ]
  },
  {
   "cell_type": "code",
   "execution_count": 9,
   "id": "f7571fa1",
   "metadata": {},
   "outputs": [
    {
     "data": {
      "text/plain": [
       "array([ 215,  224,  225,  227,  247,  248,  249,  250,  252,  253,  254,\n",
       "        256,  562,  564,  566,  567,  568,  569,  570,  571,  572,  573,\n",
       "        574,  575,  576,  577,  578,  579,  580,  581,  738,  739,  743,\n",
       "       1444, 1524, 1525, 1526, 1527, 1528, 1529, 1530, 1531, 1532, 1533,\n",
       "       1534, 1535, 1536, 1537, 1538, 1539, 1540, 1541, 1542, 1543, 1544,\n",
       "       1545, 1546, 1547, 1548, 1549, 1550, 1551, 1552, 1553, 1554, 1555,\n",
       "       1691, 1692, 1693, 1694, 1695, 2068, 2069, 2070, 2071, 2072, 2073,\n",
       "       2074, 2075, 2076, 2077, 2078, 2079, 2080, 2081, 2082, 2083, 2084,\n",
       "       2085, 2086, 2087, 2088, 2091, 2092, 2093, 2094, 2095, 2096, 2097,\n",
       "       2098, 2099, 2100, 2101, 2102, 2103, 2104, 2105, 2106, 2107, 2108,\n",
       "       2109, 2110])"
      ]
     },
     "execution_count": 9,
     "metadata": {},
     "output_type": "execute_result"
    }
   ],
   "source": [
    "final_res"
   ]
  },
  {
   "cell_type": "code",
   "execution_count": null,
   "id": "fd1a9ba6",
   "metadata": {},
   "outputs": [],
   "source": []
  }
 ],
 "metadata": {
  "kernelspec": {
   "display_name": "Python 3 (ipykernel)",
   "language": "python",
   "name": "python3"
  },
  "language_info": {
   "codemirror_mode": {
    "name": "ipython",
    "version": 3
   },
   "file_extension": ".py",
   "mimetype": "text/x-python",
   "name": "python",
   "nbconvert_exporter": "python",
   "pygments_lexer": "ipython3",
   "version": "3.8.16"
  }
 },
 "nbformat": 4,
 "nbformat_minor": 5
}
